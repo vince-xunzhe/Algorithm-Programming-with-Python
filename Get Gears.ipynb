{
 "cells": [
  {
   "cell_type": "markdown",
   "metadata": {},
   "source": [
    "### Why Python?<br>\n",
    "\n",
    "##### Python is an explanation programming language, and do not need compile before running it. (Like PHP, Ruby)<br>\n",
    "\n",
    "1. Python is dynamic type, which means there is no need to assign the type for an variable declaration. \"x=101\", then \"x=Hello World!\";<br>\n",
    "2. Python is object-oriented programming language, and all the classes can be inherited. There is no visiting symbols like \"private, public\" in C++;<br>\n",
    "3. Python codes runs faster, but slower than the compilable programming language. Since the Python can be extended by C, the neckbottle can be sovled. Numpy is an example, which programmed by C, so Numpy runs faster;\n",
    "4. More applications for Python: Web development, big data science, machine learning, and so on;\n",
    "5. It set the programmer free from focusing on the lower layer implementation."
   ]
  },
  {
   "cell_type": "markdown",
   "metadata": {},
   "source": [
    "#### 1. Counts and analysis for a string object."
   ]
  },
  {
   "cell_type": "code",
   "execution_count": null,
   "metadata": {},
   "outputs": [],
   "source": [
    "import string\n",
    "s=input('Please enter text:')\n",
    "\n",
    "digits=0\n",
    "letters=0\n",
    "spaces=0\n",
    "others=0\n",
    "\n",
    "for character in s:\n",
    "    if character.isalpha():\n",
    "        letters += 1\n",
    "    elif character.isdigit():\n",
    "        digits += 1\n",
    "    elif character.isspace():\n",
    "        spaces += 1\n",
    "    else:\n",
    "        others += 1\n",
    "\n",
    "print('Digital: ', digits)\n",
    "print('Letter: ', letters)\n",
    "print('Space: ', spaces)\n",
    "print('Other: ', others)\n"
   ]
  },
  {
   "cell_type": "markdown",
   "metadata": {},
   "source": [
    "#### 2. Composite number decompositions."
   ]
  },
  {
   "cell_type": "code",
   "execution_count": null,
   "metadata": {},
   "outputs": [],
   "source": [
    "def f(n):\n",
    "    result=[]\n",
    "    i = 2\n",
    "    strings=str(n)+ '='\n",
    "    while n > 1:\n",
    "        if n % i == 0:\n",
    "            n /= i\n",
    "            result.append(str(i))\n",
    "            i -= 1\n",
    "        i += 1\n",
    "    \n",
    "    strings += '*'.join(result)\n",
    "    return strings\n",
    "\n",
    "\n",
    "for i in range (5, 10):\n",
    "    print(f(i))"
   ]
  },
  {
   "cell_type": "markdown",
   "metadata": {},
   "source": [
    "#### 3. Bubble sort."
   ]
  },
  {
   "cell_type": "code",
   "execution_count": 74,
   "metadata": {},
   "outputs": [
    {
     "name": "stdout",
     "output_type": "stream",
     "text": [
      "Array non-sorted   : [ 3  5  2 12  3  1  5 42  9]\n",
      "Array bubble_sorted: [ 1  2  3  3  5  5  9 12 42]\n"
     ]
    }
   ],
   "source": [
    "import numpy as np\n",
    "\n",
    "def Bubble_sort(array):\n",
    "    length=len(array)\n",
    "    for i in range(length):\n",
    "        for j in range(1,length-i):\n",
    "            if array[j-1]>array[j]:\n",
    "                array[j-1],array[j]=array[j],array[j-1]\n",
    "    return array\n",
    "\n",
    "a=np.array([3,5,2,12,3,1,5,42,9])\n",
    "print('Array non-sorted   :',a)\n",
    "b=Bubble_sort(a)\n",
    "print('Array bubble_sorted:',b)"
   ]
  },
  {
   "cell_type": "markdown",
   "metadata": {},
   "source": [
    "#### 4. Select sort."
   ]
  },
  {
   "cell_type": "code",
   "execution_count": 75,
   "metadata": {},
   "outputs": [
    {
     "name": "stdout",
     "output_type": "stream",
     "text": [
      "Array non-sorted   : [ 3  5  2 12  3  1  5 42  9]\n",
      "Array Select_sorted: [ 1  2  3  3  5  5  9 12 42]\n"
     ]
    }
   ],
   "source": [
    "def Select_sort(array):\n",
    "    length=len(array)\n",
    "    for i in range(length):\n",
    "        minz=i\n",
    "        for j in range(i+1,length):\n",
    "            if array[j]<array[minz]:\n",
    "                minz=j\n",
    "        array[minz],array[i]=array[i],array[minz]\n",
    "    return array\n",
    "\n",
    "a=np.array([3,5,2,12,3,1,5,42,9])\n",
    "print('Array non-sorted   :',a)\n",
    "b=Select_sort(a)\n",
    "print('Array Select_sorted:',b)\n",
    "    "
   ]
  },
  {
   "cell_type": "markdown",
   "metadata": {},
   "source": [
    "#### 5. Insert sort."
   ]
  },
  {
   "cell_type": "code",
   "execution_count": 82,
   "metadata": {},
   "outputs": [
    {
     "name": "stdout",
     "output_type": "stream",
     "text": [
      "Array non-sorted   : [ 3  5  2 12  3  1  5 42  9]\n",
      "Array Insert_sorted: [ 1  2  3  3  5  5  9 12 42]\n"
     ]
    }
   ],
   "source": [
    "def insert_sort(lists):\n",
    "    count = len(lists)\n",
    "    for i in range(1, count):\n",
    "        key = lists[i]\n",
    "        j = i - 1\n",
    "        while j >= 0:\n",
    "            if lists[j] > key:\n",
    "                lists[j + 1] = lists[j]\n",
    "                lists[j] = key\n",
    "            j -= 1\n",
    "    return lists   \n",
    "\n",
    "a=np.array([3,5,2,12,3,1,5,42,9])\n",
    "print('Array non-sorted   :',a)\n",
    "b=insert_sort(a)\n",
    "print('Array Insert_sorted:',b)"
   ]
  },
  {
   "cell_type": "markdown",
   "metadata": {},
   "source": [
    "#### 6. Quick sort."
   ]
  },
  {
   "cell_type": "code",
   "execution_count": 103,
   "metadata": {},
   "outputs": [
    {
     "name": "stdout",
     "output_type": "stream",
     "text": [
      "Array non-sorted   : [ 3  5  2 12  3  1  5 42  9]\n",
      "Array Quick_sort_1: [ 1  2  3  3  5  5  9 12 42]\n",
      "Array Quick_sort_2: [ 1  2  3  3  5  5  9 12 42]\n"
     ]
    }
   ],
   "source": [
    "def Quick_sort_1(lists,left,right):\n",
    "    if left >= right:\n",
    "        return lists\n",
    "    \n",
    "    key = lists[left]\n",
    "    low = left\n",
    "    high = right\n",
    "    \n",
    "    while left < right:\n",
    "        while left < right and lists[right] >= key:\n",
    "            right -= 1\n",
    "        lists[left] = lists[right]\n",
    "        while left < right and lists[left] <= key:\n",
    "            left += 1\n",
    "        lists[right] = lists[left]\n",
    "        \n",
    "    lists[right] = key\n",
    "    \n",
    "    quicksort(lists,low,left-1)\n",
    "    quicksort(lists,left+1,high)\n",
    "    \n",
    "    return lists\n",
    "\n",
    "\n",
    "\n",
    "def Quick_sort_2(array):\n",
    "    if len(array < 2):\n",
    "        return array\n",
    "    else:\n",
    "        pivot_index = 0\n",
    "        pivot = array[pivot_index]\n",
    "        less_part=[i for i in array[pivot_index+1:] if i <= pivot]\n",
    "        great_part=[i for i in array[pivot_index+1:] if i > pivot]\n",
    "    return Quick_sort_2(less_part)+[pivot]+Quick_sort_2(great_part)\n",
    "        \n",
    "\n",
    "\n",
    "a=np.array([3,5,2,12,3,1,5,42,9])\n",
    "print('Array non-sorted   :',a)\n",
    "b=Quick_sort_1(a,0,len(a)-1)\n",
    "print('Array Quick_sort_1:',b)\n",
    "c=Quick_sort_2(a)\n",
    "print('Array Quick_sort_2:',c)"
   ]
  },
  {
   "cell_type": "markdown",
   "metadata": {},
   "source": [
    "#### 7. Merge sort."
   ]
  },
  {
   "cell_type": "code",
   "execution_count": 104,
   "metadata": {},
   "outputs": [
    {
     "name": "stdout",
     "output_type": "stream",
     "text": [
      "Array non-sorted: [ 3  5  2 12  3  1  5 42  9]\n",
      "Array merge_sort: [1, 2, 3, 3, 5, 5, 9, 12, 42]\n"
     ]
    }
   ],
   "source": [
    "def merge_sort(array):\n",
    "    if len(array)<2:\n",
    "        return array\n",
    "    else:\n",
    "        m=len(array)//2\n",
    "        A_1=merge_sort(array[:m])\n",
    "        A_2=merge_sort(array[m:])\n",
    "        \n",
    "    return merge(A_1,A_2)\n",
    "\n",
    "def merge(A, B):\n",
    "    new = []\n",
    "    a = 0\n",
    "    b = 0\n",
    "    while a < len(A) and b < len(B):\n",
    "        if A[a] < B[b]:\n",
    "            new.append(A[a])\n",
    "            a += 1\n",
    "        else:\n",
    "            new.append(B[b])\n",
    "            b += 1\n",
    "    while a < len(A):\n",
    "        new.append(A[a])\n",
    "        a += 1\n",
    "    while b < len(B):\n",
    "        new.append(B[b])\n",
    "        b += 1\n",
    "    return new\n",
    "\n",
    "a=np.array([3,5,2,12,3,1,5,42,9])\n",
    "print('Array non-sorted:',a)\n",
    "b=merge_sort(a)\n",
    "print('Array merge_sort:',b)"
   ]
  },
  {
   "cell_type": "markdown",
   "metadata": {},
   "source": [
    "#### 8. Obtain the filename at current directory."
   ]
  },
  {
   "cell_type": "code",
   "execution_count": 16,
   "metadata": {},
   "outputs": [],
   "source": [
    "import os\n",
    "\n",
    "dict_filetype=[\"cpp\",\"c\",\"h\"]\n",
    "\n",
    "def get_filename(path,allfile):\n",
    "    filelist=os.listdir(path)\n",
    "    for filename in filelist:\n",
    "        filepath=os.path.join(path,filename)\n",
    "        if os.path.isdir(filepath):\n",
    "            get_filename(filepath,allfile)\n",
    "        else:\n",
    "            for filetype in dict_filetype:\n",
    "                temp_file_type=filepath.split(\".\")\n",
    "                print(temp_file_type)\n",
    "                print(temp_file_type[-1:][0])\n",
    "                if filetype == temp_file_type[-1:][0]:\n",
    "                    allfile.append(filepath)\n",
    "                    break\n",
    "                else:\n",
    "                    print(\"File is not code: %s\" %filepath)\n",
    "    \n",
    "    return allfile\n",
    "\n"
   ]
  },
  {
   "cell_type": "markdown",
   "metadata": {},
   "source": [
    "#### 9. Find string."
   ]
  },
  {
   "cell_type": "code",
   "execution_count": 46,
   "metadata": {},
   "outputs": [
    {
     "name": "stdout",
     "output_type": "stream",
     "text": [
      "['o', 'o']\n"
     ]
    }
   ],
   "source": [
    "import re\n",
    "def find_string(string, portion):\n",
    "    return re.findall(portion,string)\n",
    "\n",
    "print(find_string(\"hello world\",\"o\"))"
   ]
  },
  {
   "cell_type": "markdown",
   "metadata": {},
   "source": [
    "#### 10. Delete the same letters."
   ]
  },
  {
   "cell_type": "code",
   "execution_count": 50,
   "metadata": {},
   "outputs": [
    {
     "name": "stdout",
     "output_type": "stream",
     "text": [
      "{'b', 'd', 'a', 'c'}\n"
     ]
    }
   ],
   "source": [
    "A=['b','c','d','b','c','a','a']\n",
    "print(set(A))"
   ]
  },
  {
   "cell_type": "code",
   "execution_count": 51,
   "metadata": {},
   "outputs": [
    {
     "name": "stdout",
     "output_type": "stream",
     "text": [
      "['b', 'c', 'd', 'a']\n"
     ]
    }
   ],
   "source": [
    "B=[]\n",
    "for i in A:\n",
    "    if not i in B:\n",
    "        B.append(i)\n",
    "print(B)"
   ]
  },
  {
   "cell_type": "markdown",
   "metadata": {},
   "source": [
    "#### 11. Reverse sort."
   ]
  },
  {
   "cell_type": "code",
   "execution_count": 66,
   "metadata": {},
   "outputs": [
    {
     "name": "stdout",
     "output_type": "stream",
     "text": [
      "[0, 1, 2, 3, 4, 5, 7, 8, 9, 10]\n"
     ]
    }
   ],
   "source": [
    "a=[1,2,4,2,4,5,7,10,5,5,7,8,9,0,3]\n",
    "a.sort()\n",
    "last=a[-1]\n",
    "\n",
    "for i in range(len(a)-2,-1,-1):\n",
    "    if last==a[i]:\n",
    "        del a[i]\n",
    "    else:\n",
    "        last=a[i]\n",
    "\n",
    "print(a)\n"
   ]
  },
  {
   "cell_type": "markdown",
   "metadata": {},
   "source": [
    "#### 12. palindromic sequence."
   ]
  },
  {
   "cell_type": "code",
   "execution_count": 121,
   "metadata": {},
   "outputs": [
    {
     "name": "stdout",
     "output_type": "stream",
     "text": [
      "Palindromic sequence? Answer:  True\n"
     ]
    }
   ],
   "source": [
    "def qs(str):\n",
    "    if len(str)==1:\n",
    "        return True\n",
    "    else:\n",
    "        return str==str[::-1]  # Inverse\n",
    "    \n",
    "a='12221'\n",
    "b=qs(a)\n",
    "print('Palindromic sequence? Answer: ',b)"
   ]
  }
 ],
 "metadata": {
  "kernelspec": {
   "display_name": "Python 3",
   "language": "python",
   "name": "python3"
  },
  "language_info": {
   "codemirror_mode": {
    "name": "ipython",
    "version": 3
   },
   "file_extension": ".py",
   "mimetype": "text/x-python",
   "name": "python",
   "nbconvert_exporter": "python",
   "pygments_lexer": "ipython3",
   "version": "3.6.5"
  }
 },
 "nbformat": 4,
 "nbformat_minor": 2
}
